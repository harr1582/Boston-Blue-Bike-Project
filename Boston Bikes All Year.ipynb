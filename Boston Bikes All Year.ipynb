{
 "cells": [
  {
   "cell_type": "markdown",
   "metadata": {},
   "source": [
    "# Boston Blue Bikes Project\n",
    " \n",
    "Everyone has seen them; those rental bikes hooked up to electronic pilons on an urban side walk. Gargantuan in nature compared to your own road bike, but colored with a glossy, fun paint color and company name on the side. In Boston, they are painted sky blue and donned the name \"Blue Bikes\". \n",
    "\n",
    "You may know of Boston's all around brash reputation through cinema, stereotype, or experience. People from this area are as blunt with their driving as they are with their opinions. Throw in the fact that most roads in Boston predate the modern population explosion, and what you have are angry drivers, in tightly packed city streets with miles of highway backup to and from the city. There's barely room to park on these streets and broken rear view mirrors are evidence of this fact. So riding a bike in this city would seem pretty impossible, right?\n",
    "\n",
    "Well let's take a second look at this Blue Bike company for answers. Are people actually risking their lives to ride a bike in a city where the drivers believe pedestrians are at fault for getting hit in a crosswalk? Who are these people? Where are they going? Are they saving money by riding bikes? Are they saving the planet?\n",
    "    \n"
   ]
  },
  {
   "cell_type": "markdown",
   "metadata": {},
   "source": [
    "## Demographics\n",
    "#Questions asked of this dataset in this notebook:\n",
    "#When do people bike most often?\n",
    "#How much money/gallons of gas are saved by bikers?\n"
   ]
  },
  {
   "cell_type": "code",
   "execution_count": 1,
   "metadata": {},
   "outputs": [],
   "source": [
    "import numpy as np\n",
    "import pandas as pd\n",
    "import matplotlib.pyplot as plt\n",
    "import math\n",
    "import statistics\n",
    "import scipy\n",
    "%matplotlib inline"
   ]
  },
  {
   "cell_type": "code",
   "execution_count": 64,
   "metadata": {},
   "outputs": [
    {
     "name": "stdout",
     "output_type": "stream",
     "text": [
      "         tripduration starttime stoptime  start station id  \\\n",
      "0                2254   03:32.9  41:07.8                33   \n",
      "1                2376   04:25.3  44:01.4                33   \n",
      "2                2083   04:38.8  39:22.0                33   \n",
      "3                1547   05:21.3  31:08.5                81   \n",
      "4                 271   05:51.6  10:23.5                67   \n",
      "...               ...       ...      ...               ...   \n",
      "1767801          2018   58:32.5  32:10.7                35   \n",
      "1767802          1618   59:17.5  26:16.4                91   \n",
      "1767803           808   59:44.4  13:12.4               155   \n",
      "1767804           411   59:53.0  06:44.0                45   \n",
      "1767805           643   30:33.2  41:16.8               195   \n",
      "\n",
      "                                       start station name  \\\n",
      "0                                          Kenmore Square   \n",
      "1                                          Kenmore Square   \n",
      "2                                          Kenmore Square   \n",
      "3                            Boylston St at Washington St   \n",
      "4                            MIT at Mass Ave / Amherst St   \n",
      "...                                                   ...   \n",
      "1767801                            Arch St at Franklin St   \n",
      "1767802  One Kendall Square at Hampshire St / Portland St   \n",
      "1767803                        Huntington Ave at Mass Art   \n",
      "1767804                        Jersey St. at Boylston St.   \n",
      "1767805                              Child St at North St   \n",
      "\n",
      "         start station latitude  start station longitude  end station id  \\\n",
      "0                     42.348706               -71.097009              70   \n",
      "1                     42.348706               -71.097009              73   \n",
      "2                     42.348706               -71.097009              70   \n",
      "3                     42.352409               -71.062679              97   \n",
      "4                     42.358100               -71.093198             179   \n",
      "...                         ...                      ...             ...   \n",
      "1767801               42.355335               -71.058229              20   \n",
      "1767802               42.366277               -71.091690              91   \n",
      "1767803               42.336519               -71.098969             155   \n",
      "1767804               42.344681               -71.097853              33   \n",
      "1767805               42.371505               -71.072493              85   \n",
      "\n",
      "                                          end station name  \\\n",
      "0          Harvard Kennedy School at Bennett St / Eliot St   \n",
      "1                  Harvard Square at Brattle St / Eliot St   \n",
      "2          Harvard Kennedy School at Bennett St / Eliot St   \n",
      "3        Harvard University River Houses at DeWolfe St ...   \n",
      "4                                            MIT Vassar St   \n",
      "...                                                    ...   \n",
      "1767801                 Aquarium T Stop - 200 Atlantic Ave   \n",
      "1767802   One Kendall Square at Hampshire St / Portland St   \n",
      "1767803                         Huntington Ave at Mass Art   \n",
      "1767804                                     Kenmore Square   \n",
      "1767805  Spaulding Rehabilitation Hospital - Charlestow...   \n",
      "\n",
      "         end station latitude  ...      SLAT      SLON      ELAT      ELON  \\\n",
      "0                   42.372217  ...  0.739124 -1.240877  0.739535 -1.241311   \n",
      "1                   42.373231  ...  0.739124 -1.240877  0.739552 -1.241294   \n",
      "2                   42.372217  ...  0.739124 -1.240877  0.739535 -1.241311   \n",
      "3                   42.369190  ...  0.739189 -1.240278  0.739482 -1.241228   \n",
      "4                   42.355601  ...  0.739288 -1.240810  0.739245 -1.240998   \n",
      "...                       ...  ...       ...       ...       ...       ...   \n",
      "1767801             42.359912  ...  0.739240 -1.240200  0.739320 -1.240081   \n",
      "1767802             42.366277  ...  0.739431 -1.240784  0.739431 -1.240784   \n",
      "1767803             42.336519  ...  0.738912 -1.240911  0.738912 -1.240911   \n",
      "1767804             42.348706  ...  0.739054 -1.240892  0.739124 -1.240877   \n",
      "1767805             42.378338  ...  0.739522 -1.240449  0.739642 -1.240038   \n",
      "\n",
      "             DLAT      DLON             A      ATAN  distance  Month  \n",
      "0        0.000410 -0.000434  6.780000e-08  0.000521     2.060  April  \n",
      "1        0.000428 -0.000417  6.950000e-08  0.000527     2.090  April  \n",
      "2        0.000410 -0.000434  6.780000e-08  0.000521     2.060  April  \n",
      "3        0.000293 -0.000951  1.450000e-07  0.000761     3.010  April  \n",
      "4       -0.000044 -0.000188  5.280000e-09  0.000145     0.575  April  \n",
      "...           ...       ...           ...       ...       ...    ...  \n",
      "1767801  0.000080  0.000119  3.520000e-09  0.000119     0.470   Sept  \n",
      "1767802  0.000000  0.000000  0.000000e+00  0.000000     0.000   Sept  \n",
      "1767803  0.000000  0.000000  0.000000e+00  0.000000     0.000   Sept  \n",
      "1767804  0.000070  0.000015  1.260000e-09  0.000071     0.282   Sept  \n",
      "1767805  0.000119  0.000411  2.660000e-08  0.000326     1.290   Sept  \n",
      "\n",
      "[1767806 rows x 25 columns]\n"
     ]
    }
   ],
   "source": [
    "# 12 csv files are housed in one folder, each of which contains a separate month's worth of data. The \n",
    "# csv files do not have datetimestamps of bike rentals. Thus to import each month and label the data\n",
    "# according to the month the data occurred in, I used this code.\n",
    "import glob\n",
    "\n",
    "path = r'C:\\Users\\harr1\\Desktop\\Thinkful\\Relocated bike project data'\n",
    "all_files = glob.glob(path+\"/*.csv\")\n",
    "li = []\n",
    "for filename in all_files:\n",
    "    df=pd.read_csv(filename, index_col=None, header=0)\n",
    "    file  = filename.split()[-1]\n",
    "    month_abbr = file.split(\".\")[0]\n",
    "    df['Month'] = month_abbr\n",
    "    li.append(df)\n",
    "    \n",
    "frame = pd.concat(li,axis=0, ignore_index=True)\n",
    "print(frame)"
   ]
  },
  {
   "cell_type": "code",
   "execution_count": 180,
   "metadata": {},
   "outputs": [],
   "source": [
    "\n",
    "month_dict = {\n",
    "    'Jan' : 1, \n",
    "    'Feb' : 2,\n",
    "    'March' : 3,\n",
    "    'April' : 4,\n",
    "    'May' : 5,\n",
    "    'June' : 6,\n",
    "    'July' : 7,\n",
    "    'Aug' : 8,\n",
    "    'Sept' : 9,\n",
    "    'Oct' : 10,\n",
    "    'Nov' : 11,\n",
    "    'Dec' : 12\n",
    "         }\n",
    "# for each in frame['Month']:\n",
    "#       frame['Month_no'].append(month_dict.value())\n",
    "# frame\n"
   ]
  },
  {
   "cell_type": "code",
   "execution_count": 119,
   "metadata": {},
   "outputs": [
    {
     "name": "stdout",
     "output_type": "stream",
     "text": [
      "Total distance ridden: 2098517.255643298\n"
     ]
    }
   ],
   "source": [
    "#Total distance ridden all year\n",
    "print('Total distance ridden:',frame['distance'].sum())"
   ]
  },
  {
   "cell_type": "code",
   "execution_count": 208,
   "metadata": {},
   "outputs": [
    {
     "name": "stdout",
     "output_type": "stream",
     "text": [
      "Ave gals of gas saved/month: 7080.017731590076\n",
      "Total gals of gas saved: 84960.21277908093\n"
     ]
    },
    {
     "data": {
      "text/html": [
       "<div>\n",
       "<style scoped>\n",
       "    .dataframe tbody tr th:only-of-type {\n",
       "        vertical-align: middle;\n",
       "    }\n",
       "\n",
       "    .dataframe tbody tr th {\n",
       "        vertical-align: top;\n",
       "    }\n",
       "\n",
       "    .dataframe thead th {\n",
       "        text-align: right;\n",
       "    }\n",
       "</style>\n",
       "<table border=\"1\" class=\"dataframe\">\n",
       "  <thead>\n",
       "    <tr style=\"text-align: right;\">\n",
       "      <th></th>\n",
       "      <th>dist_month</th>\n",
       "      <th>sav_month</th>\n",
       "      <th>Month</th>\n",
       "      <th>Mo_no</th>\n",
       "    </tr>\n",
       "    <tr>\n",
       "      <th>Month</th>\n",
       "      <th></th>\n",
       "      <th></th>\n",
       "      <th></th>\n",
       "      <th></th>\n",
       "    </tr>\n",
       "  </thead>\n",
       "  <tbody>\n",
       "    <tr>\n",
       "      <th>April</th>\n",
       "      <td>13484.786000</td>\n",
       "      <td>545.942753</td>\n",
       "      <td>April</td>\n",
       "      <td>4</td>\n",
       "    </tr>\n",
       "    <tr>\n",
       "      <th>Aug</th>\n",
       "      <td>349252.021000</td>\n",
       "      <td>14139.757935</td>\n",
       "      <td>Aug</td>\n",
       "      <td>8</td>\n",
       "    </tr>\n",
       "    <tr>\n",
       "      <th>Dec</th>\n",
       "      <td>92841.666300</td>\n",
       "      <td>3758.771915</td>\n",
       "      <td>Dec</td>\n",
       "      <td>12</td>\n",
       "    </tr>\n",
       "    <tr>\n",
       "      <th>Feb</th>\n",
       "      <td>77166.384800</td>\n",
       "      <td>3124.145134</td>\n",
       "      <td>Feb</td>\n",
       "      <td>2</td>\n",
       "    </tr>\n",
       "    <tr>\n",
       "      <th>Jan</th>\n",
       "      <td>45503.465000</td>\n",
       "      <td>1842.245547</td>\n",
       "      <td>Jan</td>\n",
       "      <td>1</td>\n",
       "    </tr>\n",
       "    <tr>\n",
       "      <th>July</th>\n",
       "      <td>297601.637343</td>\n",
       "      <td>12048.649285</td>\n",
       "      <td>July</td>\n",
       "      <td>7</td>\n",
       "    </tr>\n",
       "    <tr>\n",
       "      <th>June</th>\n",
       "      <td>255988.413600</td>\n",
       "      <td>10363.903385</td>\n",
       "      <td>June</td>\n",
       "      <td>6</td>\n",
       "    </tr>\n",
       "    <tr>\n",
       "      <th>March</th>\n",
       "      <td>71374.305800</td>\n",
       "      <td>2889.648008</td>\n",
       "      <td>March</td>\n",
       "      <td>3</td>\n",
       "    </tr>\n",
       "    <tr>\n",
       "      <th>May</th>\n",
       "      <td>220232.589700</td>\n",
       "      <td>8916.299178</td>\n",
       "      <td>May</td>\n",
       "      <td>5</td>\n",
       "    </tr>\n",
       "    <tr>\n",
       "      <th>Nov</th>\n",
       "      <td>144356.407200</td>\n",
       "      <td>5844.388955</td>\n",
       "      <td>Nov</td>\n",
       "      <td>11</td>\n",
       "    </tr>\n",
       "    <tr>\n",
       "      <th>Oct</th>\n",
       "      <td>245257.033400</td>\n",
       "      <td>9929.434551</td>\n",
       "      <td>Oct</td>\n",
       "      <td>10</td>\n",
       "    </tr>\n",
       "    <tr>\n",
       "      <th>Sept</th>\n",
       "      <td>285458.545500</td>\n",
       "      <td>11557.026134</td>\n",
       "      <td>Sept</td>\n",
       "      <td>9</td>\n",
       "    </tr>\n",
       "  </tbody>\n",
       "</table>\n",
       "</div>"
      ],
      "text/plain": [
       "          dist_month     sav_month  Month  Mo_no\n",
       "Month                                           \n",
       "April   13484.786000    545.942753  April      4\n",
       "Aug    349252.021000  14139.757935    Aug      8\n",
       "Dec     92841.666300   3758.771915    Dec     12\n",
       "Feb     77166.384800   3124.145134    Feb      2\n",
       "Jan     45503.465000   1842.245547    Jan      1\n",
       "July   297601.637343  12048.649285   July      7\n",
       "June   255988.413600  10363.903385   June      6\n",
       "March   71374.305800   2889.648008  March      3\n",
       "May    220232.589700   8916.299178    May      5\n",
       "Nov    144356.407200   5844.388955    Nov     11\n",
       "Oct    245257.033400   9929.434551    Oct     10\n",
       "Sept   285458.545500  11557.026134   Sept      9"
      ]
     },
     "execution_count": 208,
     "metadata": {},
     "output_type": "execute_result"
    }
   ],
   "source": [
    "#Savings per month:\n",
    "sav = pd.DataFrame()\n",
    "sav['dist_month'] = frame.groupby(['Month'])['distance'].sum(ascending = False, axis = 0)\n",
    "sav['sav_month'] = sav_month['dist_month']/24.7\n",
    "sav_mean = np.mean(sav['sav_month'])\n",
    "sav_total = sum(sav['sav_month'])\n",
    "print (\"Ave gals of gas saved/month:\", sav_mean )\n",
    "print (\"Total gals of gas saved:\", sav_total)\n",
    "\n",
    "sav['Month'] = sav.index \n",
    "Mo_no = []\n",
    "for each in sav['Month']:\n",
    "    Mo_no.append(month_dict[each])\n",
    "Mo_no\n",
    "sav['Mo_no'] = Mo_no\n",
    "\n",
    "sav"
   ]
  },
  {
   "cell_type": "code",
   "execution_count": 211,
   "metadata": {},
   "outputs": [],
   "source": [
    "sav = sav.sort_values(by=['Mo_no'])"
   ]
  },
  {
   "cell_type": "code",
   "execution_count": null,
   "metadata": {},
   "outputs": [],
   "source": []
  },
  {
   "cell_type": "code",
   "execution_count": 225,
   "metadata": {},
   "outputs": [
    {
     "data": {
      "image/png": "[encoded data removed]",
      "text/plain": [
       "<Figure size 432x288 with 1 Axes>"
      ]
     },
     "metadata": {
      "needs_background": "light"
     },
     "output_type": "display_data"
    }
   ],
   "source": [
    "plt.plot(sav['sav_month'], linewidth = 3)\n",
    "plt.ylabel('Gallons of Gas Saved')\n",
    "plt.axhline(np.mean(sav_mean), linestyle='dashed')\n",
    "plt.xticks(sav['Month'], rotation = 'vertical')\n",
    "plt.title('Biking Community Saves 87,000 Gallons of Gas', fontsize = 16)\n",
    "plt.show()\n"
   ]
  },
  {
   "cell_type": "code",
   "execution_count": 213,
   "metadata": {},
   "outputs": [
    {
     "name": "stdout",
     "output_type": "stream",
     "text": [
      "Total number of trips: 1767806\n"
     ]
    }
   ],
   "source": [
    "#Number of trips over the course of the year\n",
    "total_trips = frame['starttime'].count()\n",
    "print('Total number of trips:', total_trips)"
   ]
  },
  {
   "cell_type": "code",
   "execution_count": 214,
   "metadata": {},
   "outputs": [],
   "source": [
    "sav['Num_trips'] = frame.groupby(['Month'])['starttime'].count()\n"
   ]
  },
  {
   "cell_type": "code",
   "execution_count": 226,
   "metadata": {},
   "outputs": [
    {
     "data": {
      "image/png": "[encoded data removed]",
      "text/plain": [
       "<Figure size 432x288 with 1 Axes>"
      ]
     },
     "metadata": {
      "needs_background": "light"
     },
     "output_type": "display_data"
    }
   ],
   "source": [
    "#create bar chart of trips per month, setting index to horizontal\n",
    "plt.bar(sav['Month'], sav['Num_trips'], align='center')\n",
    "plt.xticks(sav['Month'], rotation = 'vertical')\n",
    "plt.title('Blue Bikes Winter-Spring Growth Opportunity', fontsize = 20)\n",
    "plt.ylabel('Number of trips')\n",
    "plt.show()"
   ]
  },
  {
   "cell_type": "code",
   "execution_count": 216,
   "metadata": {},
   "outputs": [],
   "source": [
    "#Ave trip duration in hours per month\n",
    "sav['Ride Duration'] = frame.groupby(['Month'])['tripduration'].mean()/60\n",
    "\n",
    "#There are obvious outliers skewing the data. Bikes that were possibly left off the rack continued\n",
    "#to gather data despite not in use. Let's look at the max ride times."
   ]
  },
  {
   "cell_type": "code",
   "execution_count": 217,
   "metadata": {},
   "outputs": [
    {
     "data": {
      "text/html": [
       "<div>\n",
       "<style scoped>\n",
       "    .dataframe tbody tr th:only-of-type {\n",
       "        vertical-align: middle;\n",
       "    }\n",
       "\n",
       "    .dataframe tbody tr th {\n",
       "        vertical-align: top;\n",
       "    }\n",
       "\n",
       "    .dataframe thead th {\n",
       "        text-align: right;\n",
       "    }\n",
       "</style>\n",
       "<table border=\"1\" class=\"dataframe\">\n",
       "  <thead>\n",
       "    <tr style=\"text-align: right;\">\n",
       "      <th></th>\n",
       "      <th>dist_month</th>\n",
       "      <th>sav_month</th>\n",
       "      <th>Month</th>\n",
       "      <th>Mo_no</th>\n",
       "      <th>Num_trips</th>\n",
       "      <th>Ride Duration</th>\n",
       "      <th>Max</th>\n",
       "    </tr>\n",
       "    <tr>\n",
       "      <th>Month</th>\n",
       "      <th></th>\n",
       "      <th></th>\n",
       "      <th></th>\n",
       "      <th></th>\n",
       "      <th></th>\n",
       "      <th></th>\n",
       "      <th></th>\n",
       "    </tr>\n",
       "  </thead>\n",
       "  <tbody>\n",
       "    <tr>\n",
       "      <th>Jan</th>\n",
       "      <td>45503.465000</td>\n",
       "      <td>1842.245547</td>\n",
       "      <td>Jan</td>\n",
       "      <td>1</td>\n",
       "      <td>40932</td>\n",
       "      <td>14.421616</td>\n",
       "      <td>1694.972222</td>\n",
       "    </tr>\n",
       "    <tr>\n",
       "      <th>Feb</th>\n",
       "      <td>77166.384800</td>\n",
       "      <td>3124.145134</td>\n",
       "      <td>Feb</td>\n",
       "      <td>2</td>\n",
       "      <td>62817</td>\n",
       "      <td>16.356450</td>\n",
       "      <td>1609.462500</td>\n",
       "    </tr>\n",
       "    <tr>\n",
       "      <th>March</th>\n",
       "      <td>71374.305800</td>\n",
       "      <td>2889.648008</td>\n",
       "      <td>March</td>\n",
       "      <td>3</td>\n",
       "      <td>62985</td>\n",
       "      <td>14.802737</td>\n",
       "      <td>463.243056</td>\n",
       "    </tr>\n",
       "    <tr>\n",
       "      <th>April</th>\n",
       "      <td>13484.786000</td>\n",
       "      <td>545.942753</td>\n",
       "      <td>April</td>\n",
       "      <td>4</td>\n",
       "      <td>98194</td>\n",
       "      <td>17.848706</td>\n",
       "      <td>1734.798611</td>\n",
       "    </tr>\n",
       "    <tr>\n",
       "      <th>May</th>\n",
       "      <td>220232.589700</td>\n",
       "      <td>8916.299178</td>\n",
       "      <td>May</td>\n",
       "      <td>5</td>\n",
       "      <td>178865</td>\n",
       "      <td>26.036307</td>\n",
       "      <td>6478.165278</td>\n",
       "    </tr>\n",
       "    <tr>\n",
       "      <th>June</th>\n",
       "      <td>255988.413600</td>\n",
       "      <td>10363.903385</td>\n",
       "      <td>June</td>\n",
       "      <td>6</td>\n",
       "      <td>205359</td>\n",
       "      <td>28.700219</td>\n",
       "      <td>5704.476389</td>\n",
       "    </tr>\n",
       "    <tr>\n",
       "      <th>July</th>\n",
       "      <td>297601.637343</td>\n",
       "      <td>12048.649285</td>\n",
       "      <td>July</td>\n",
       "      <td>7</td>\n",
       "      <td>242916</td>\n",
       "      <td>32.459148</td>\n",
       "      <td>4118.623611</td>\n",
       "    </tr>\n",
       "    <tr>\n",
       "      <th>Aug</th>\n",
       "      <td>349252.021000</td>\n",
       "      <td>14139.757935</td>\n",
       "      <td>Aug</td>\n",
       "      <td>8</td>\n",
       "      <td>236076</td>\n",
       "      <td>31.843456</td>\n",
       "      <td>3182.181944</td>\n",
       "    </tr>\n",
       "    <tr>\n",
       "      <th>Sept</th>\n",
       "      <td>285458.545500</td>\n",
       "      <td>11557.026134</td>\n",
       "      <td>Sept</td>\n",
       "      <td>9</td>\n",
       "      <td>236182</td>\n",
       "      <td>24.507130</td>\n",
       "      <td>1420.326389</td>\n",
       "    </tr>\n",
       "    <tr>\n",
       "      <th>Oct</th>\n",
       "      <td>245257.033400</td>\n",
       "      <td>9929.434551</td>\n",
       "      <td>Oct</td>\n",
       "      <td>10</td>\n",
       "      <td>200100</td>\n",
       "      <td>33.601133</td>\n",
       "      <td>2030.091667</td>\n",
       "    </tr>\n",
       "    <tr>\n",
       "      <th>Nov</th>\n",
       "      <td>144356.407200</td>\n",
       "      <td>5844.388955</td>\n",
       "      <td>Nov</td>\n",
       "      <td>11</td>\n",
       "      <td>121419</td>\n",
       "      <td>20.577400</td>\n",
       "      <td>1490.379167</td>\n",
       "    </tr>\n",
       "    <tr>\n",
       "      <th>Dec</th>\n",
       "      <td>92841.666300</td>\n",
       "      <td>3758.771915</td>\n",
       "      <td>Dec</td>\n",
       "      <td>12</td>\n",
       "      <td>81961</td>\n",
       "      <td>22.339292</td>\n",
       "      <td>1968.163194</td>\n",
       "    </tr>\n",
       "  </tbody>\n",
       "</table>\n",
       "</div>"
      ],
      "text/plain": [
       "          dist_month     sav_month  Month  Mo_no  Num_trips  Ride Duration  \\\n",
       "Month                                                                        \n",
       "Jan     45503.465000   1842.245547    Jan      1      40932      14.421616   \n",
       "Feb     77166.384800   3124.145134    Feb      2      62817      16.356450   \n",
       "March   71374.305800   2889.648008  March      3      62985      14.802737   \n",
       "April   13484.786000    545.942753  April      4      98194      17.848706   \n",
       "May    220232.589700   8916.299178    May      5     178865      26.036307   \n",
       "June   255988.413600  10363.903385   June      6     205359      28.700219   \n",
       "July   297601.637343  12048.649285   July      7     242916      32.459148   \n",
       "Aug    349252.021000  14139.757935    Aug      8     236076      31.843456   \n",
       "Sept   285458.545500  11557.026134   Sept      9     236182      24.507130   \n",
       "Oct    245257.033400   9929.434551    Oct     10     200100      33.601133   \n",
       "Nov    144356.407200   5844.388955    Nov     11     121419      20.577400   \n",
       "Dec     92841.666300   3758.771915    Dec     12      81961      22.339292   \n",
       "\n",
       "               Max  \n",
       "Month               \n",
       "Jan    1694.972222  \n",
       "Feb    1609.462500  \n",
       "March   463.243056  \n",
       "April  1734.798611  \n",
       "May    6478.165278  \n",
       "June   5704.476389  \n",
       "July   4118.623611  \n",
       "Aug    3182.181944  \n",
       "Sept   1420.326389  \n",
       "Oct    2030.091667  \n",
       "Nov    1490.379167  \n",
       "Dec    1968.163194  "
      ]
     },
     "execution_count": 217,
     "metadata": {},
     "output_type": "execute_result"
    }
   ],
   "source": [
    "#Number of hours for these max rentals doesn't make sense and is skewing the data\n",
    "sav['Max'] = (frame.groupby(['Month'])['tripduration'].max()/60)/24\n",
    "sav"
   ]
  },
  {
   "cell_type": "code",
   "execution_count": 227,
   "metadata": {},
   "outputs": [
    {
     "data": {
      "image/png": "[encoded data removed]",
      "text/plain": [
       "<Figure size 432x288 with 1 Axes>"
      ]
     },
     "metadata": {
      "needs_background": "light"
     },
     "output_type": "display_data"
    }
   ],
   "source": [
    "plt.bar(sav.index, sav['Max'], align='center')\n",
    "plt.xticks(sav.index,  rotation = 'vertical')\n",
    "plt.title('Maximum Trip Lengths')\n",
    "plt.ylabel('Time of trips (hours)')\n",
    "plt.show()  "
   ]
  },
  {
   "cell_type": "code",
   "execution_count": null,
   "metadata": {},
   "outputs": [],
   "source": [
    "#Due to what seems to be a very skewed dataset, I cannot use the trip durations until that data is cleaned."
   ]
  }
 ],
 "metadata": {
  "celltoolbar": "Raw Cell Format",
  "kernelspec": {
   "display_name": "Python 3",
   "language": "python",
   "name": "python3"
  },
  "language_info": {
   "codemirror_mode": {
    "name": "ipython",
    "version": 3
   },
   "file_extension": ".py",
   "mimetype": "text/x-python",
   "name": "python",
   "nbconvert_exporter": "python",
   "pygments_lexer": "ipython3",
   "version": "3.7.4"
  }
 },
 "nbformat": 4,
 "nbformat_minor": 2
}
