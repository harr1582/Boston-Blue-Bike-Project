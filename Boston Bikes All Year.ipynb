{
 "cells": [
  {
   "cell_type": "markdown",
   "metadata": {},
   "source": [
    "# Boston Blue Bikes Project\n",
    " \n",
    "Everyone has seen them; those rental bikes hooked up to electronic pilons on an urban side walk. Gargantuan in nature compared to your own road bike, but colored with a glossy, fun paint color and company name on the side. In Boston, they are painted sky blue and donned the name \"Blue Bikes\". \n",
    "\n",
    "You may know of Boston's all around brash reputation through cinema, stereotype, or experience. People from this area are as blunt with their driving as they are with their opinions. Throw in the fact that most roads in Boston predate the modern population explosion, and what you have are angry drivers, in tightly packed city streets with miles of highway backup to and from the city. There's barely room to park on these streets and broken rear view mirrors are evidence of this fact. So riding a bike in this city would seem pretty impossible, right?\n",
    "\n",
    "Well let's take a second look at this Blue Bike company for answers. Are people actually risking their lives to ride a bike in a city where the drivers believe pedestrians are at fault for getting hit in a crosswalk? Who are these people? Where are they going? Are they saving money by riding bikes? Are they saving the planet?\n",
    "    \n"
   ]
  },
  {
   "cell_type": "markdown",
   "metadata": {},
   "source": [
    "## Demographics\n",
    "#Questions asked of this dataset in this notebook:\n",
    "#When do people bike most often?\n",
    "#How much money/gallons of gas are saved by bikers?\n"
   ]
  },
  {
   "cell_type": "code",
   "execution_count": 1,
   "metadata": {},
   "outputs": [],
   "source": [
    "import numpy as np\n",
    "import pandas as pd\n",
    "import matplotlib.pyplot as plt\n",
    "import math\n",
    "import statistics\n",
    "import scipy\n",
    "%matplotlib inline"
   ]
  },
  {
   "cell_type": "code",
   "execution_count": 248,
   "metadata": {},
   "outputs": [
    {
     "name": "stdout",
     "output_type": "stream",
     "text": [
      "         tripduration starttime stoptime  start station id  \\\n",
      "0                2254   03:32.9  41:07.8                33   \n",
      "1                2376   04:25.3  44:01.4                33   \n",
      "2                2083   04:38.8  39:22.0                33   \n",
      "3                1547   05:21.3  31:08.5                81   \n",
      "4                 271   05:51.6  10:23.5                67   \n",
      "...               ...       ...      ...               ...   \n",
      "1767801          2018   58:32.5  32:10.7                35   \n",
      "1767802          1618   59:17.5  26:16.4                91   \n",
      "1767803           808   59:44.4  13:12.4               155   \n",
      "1767804           411   59:53.0  06:44.0                45   \n",
      "1767805           643   30:33.2  41:16.8               195   \n",
      "\n",
      "                                       start station name  \\\n",
      "0                                          Kenmore Square   \n",
      "1                                          Kenmore Square   \n",
      "2                                          Kenmore Square   \n",
      "3                            Boylston St at Washington St   \n",
      "4                            MIT at Mass Ave / Amherst St   \n",
      "...                                                   ...   \n",
      "1767801                            Arch St at Franklin St   \n",
      "1767802  One Kendall Square at Hampshire St / Portland St   \n",
      "1767803                        Huntington Ave at Mass Art   \n",
      "1767804                        Jersey St. at Boylston St.   \n",
      "1767805                              Child St at North St   \n",
      "\n",
      "         start station latitude  start station longitude  end station id  \\\n",
      "0                     42.348706               -71.097009              70   \n",
      "1                     42.348706               -71.097009              73   \n",
      "2                     42.348706               -71.097009              70   \n",
      "3                     42.352409               -71.062679              97   \n",
      "4                     42.358100               -71.093198             179   \n",
      "...                         ...                      ...             ...   \n",
      "1767801               42.355335               -71.058229              20   \n",
      "1767802               42.366277               -71.091690              91   \n",
      "1767803               42.336519               -71.098969             155   \n",
      "1767804               42.344681               -71.097853              33   \n",
      "1767805               42.371505               -71.072493              85   \n",
      "\n",
      "                                          end station name  \\\n",
      "0          Harvard Kennedy School at Bennett St / Eliot St   \n",
      "1                  Harvard Square at Brattle St / Eliot St   \n",
      "2          Harvard Kennedy School at Bennett St / Eliot St   \n",
      "3        Harvard University River Houses at DeWolfe St ...   \n",
      "4                                            MIT Vassar St   \n",
      "...                                                    ...   \n",
      "1767801                 Aquarium T Stop - 200 Atlantic Ave   \n",
      "1767802   One Kendall Square at Hampshire St / Portland St   \n",
      "1767803                         Huntington Ave at Mass Art   \n",
      "1767804                                     Kenmore Square   \n",
      "1767805  Spaulding Rehabilitation Hospital - Charlestow...   \n",
      "\n",
      "         end station latitude  ...      SLAT      SLON      ELAT      ELON  \\\n",
      "0                   42.372217  ...  0.739124 -1.240877  0.739535 -1.241311   \n",
      "1                   42.373231  ...  0.739124 -1.240877  0.739552 -1.241294   \n",
      "2                   42.372217  ...  0.739124 -1.240877  0.739535 -1.241311   \n",
      "3                   42.369190  ...  0.739189 -1.240278  0.739482 -1.241228   \n",
      "4                   42.355601  ...  0.739288 -1.240810  0.739245 -1.240998   \n",
      "...                       ...  ...       ...       ...       ...       ...   \n",
      "1767801             42.359912  ...  0.739240 -1.240200  0.739320 -1.240081   \n",
      "1767802             42.366277  ...  0.739431 -1.240784  0.739431 -1.240784   \n",
      "1767803             42.336519  ...  0.738912 -1.240911  0.738912 -1.240911   \n",
      "1767804             42.348706  ...  0.739054 -1.240892  0.739124 -1.240877   \n",
      "1767805             42.378338  ...  0.739522 -1.240449  0.739642 -1.240038   \n",
      "\n",
      "             DLAT      DLON             A      ATAN  distance  Month  \n",
      "0        0.000410 -0.000434  6.780000e-08  0.000521     2.060  April  \n",
      "1        0.000428 -0.000417  6.950000e-08  0.000527     2.090  April  \n",
      "2        0.000410 -0.000434  6.780000e-08  0.000521     2.060  April  \n",
      "3        0.000293 -0.000951  1.450000e-07  0.000761     3.010  April  \n",
      "4       -0.000044 -0.000188  5.280000e-09  0.000145     0.575  April  \n",
      "...           ...       ...           ...       ...       ...    ...  \n",
      "1767801  0.000080  0.000119  3.520000e-09  0.000119     0.470   Sept  \n",
      "1767802  0.000000  0.000000  0.000000e+00  0.000000     0.000   Sept  \n",
      "1767803  0.000000  0.000000  0.000000e+00  0.000000     0.000   Sept  \n",
      "1767804  0.000070  0.000015  1.260000e-09  0.000071     0.282   Sept  \n",
      "1767805  0.000119  0.000411  2.660000e-08  0.000326     1.290   Sept  \n",
      "\n",
      "[1767806 rows x 25 columns]\n"
     ]
    }
   ],
   "source": [
    "# 12 csv files are housed in one folder, each of which contains a separate month's worth of data. The \n",
    "# csv files do not have datetimestamps of bike rentals. Thus to import each month and label the data\n",
    "# according to the month the data occurred in, I used this code.\n",
    "import glob\n",
    "\n",
    "path = r'C:\\Users\\harr1\\Desktop\\Thinkful\\Relocated bike project data'\n",
    "all_files = glob.glob(path+\"/*.csv\")\n",
    "li = []\n",
    "for filename in all_files:\n",
    "    df=pd.read_csv(filename, index_col=None, header=0)\n",
    "    file  = filename.split()[-1]\n",
    "    month_abbr = file.split(\".\")[0]\n",
    "    df['Month'] = month_abbr\n",
    "    li.append(df)\n",
    "    \n",
    "frame = pd.concat(li,axis=0, ignore_index=True)\n",
    "print(frame)"
   ]
  },
  {
   "cell_type": "code",
   "execution_count": 250,
   "metadata": {},
   "outputs": [
    {
     "data": {
      "text/plain": [
       "['tripduration',\n",
       " 'starttime',\n",
       " 'stoptime',\n",
       " 'start station id',\n",
       " 'start station name',\n",
       " 'start station latitude',\n",
       " 'start station longitude',\n",
       " 'end station id',\n",
       " 'end station name',\n",
       " 'end station latitude',\n",
       " 'end station longitude',\n",
       " 'bikeid',\n",
       " 'usertype',\n",
       " 'birth year',\n",
       " 'gender',\n",
       " 'SLAT',\n",
       " 'SLON',\n",
       " 'ELAT',\n",
       " 'ELON',\n",
       " 'DLAT',\n",
       " 'DLON',\n",
       " 'A',\n",
       " 'ATAN',\n",
       " 'distance',\n",
       " 'Month']"
      ]
     },
     "execution_count": 250,
     "metadata": {},
     "output_type": "execute_result"
    }
   ],
   "source": [
    "list(frame.columns)"
   ]
  },
  {
   "cell_type": "code",
   "execution_count": 251,
   "metadata": {},
   "outputs": [
    {
     "name": "stdout",
     "output_type": "stream",
     "text": [
      "Total female riders: 398394\n",
      "Total female riders: 1141735\n",
      "Total female riders: 227677\n",
      "% female riders: 0.22536070134392575\n",
      "% female riders: 0.6458485829327426\n",
      "% female riders: 0.12879071572333164\n"
     ]
    },
    {
     "data": {
      "image/png": "[encoded data removed]",
      "text/plain": [
       "<Figure size 432x288 with 1 Axes>"
      ]
     },
     "metadata": {},
     "output_type": "display_data"
    }
   ],
   "source": [
    "#No documentation of whether female = 1 or 2. Emailed and received a response. Female = 2\n",
    "#Are riders disproportionally male or female?\n",
    "\n",
    "female = 0\n",
    "male = 0\n",
    "none = 0\n",
    "for value in frame.gender:\n",
    "    if value == 1:\n",
    "        male += 1\n",
    "    elif value == 2:\n",
    "        female += 1\n",
    "    else:\n",
    "        none += 1\n",
    "print('Total female riders:',female)\n",
    "print('Total female riders:',male)\n",
    "print('Total female riders:',none)\n",
    "\n",
    "total_riders = female + male + none\n",
    "perc_female = (female /total_riders)\n",
    "perc_male = (male/total_riders)\n",
    "perc_none = (none/total_riders)\n",
    "print ('% female riders:', perc_female)\n",
    "print ('% female riders:', perc_male)\n",
    "print ('% female riders:', perc_none)\n",
    "\n",
    "labels = 'Male', 'Female', 'None',\n",
    "sizes = [70.09, 23.12, 6.78]\n",
    "\n",
    "fig1, ax1 = plt.subplots()\n",
    "ax1.pie(sizes, labels=labels, autopct='%1.1f%%',\n",
    "        shadow=False, startangle=90)\n",
    "ax1.axis('equal')  # Equal aspect ratio ensures that pie is drawn as a circle.\n",
    "plt.title(\"Boston Bike Rider Gender Distribution\")\n",
    "\n",
    "plt.show()"
   ]
  },
  {
   "cell_type": "code",
   "execution_count": 252,
   "metadata": {},
   "outputs": [
    {
     "data": {
      "image/png": "[encoded data removed]",
      "text/plain": [
       "<Figure size 432x288 with 1 Axes>"
      ]
     },
     "metadata": {
      "needs_background": "light"
     },
     "output_type": "display_data"
    },
    {
     "name": "stdout",
     "output_type": "stream",
     "text": [
      "Maximum age is clearly an outlier: 155.0\n",
      "Max age birth year: 1863.0\n",
      "Minimum age: 16.0\n",
      "Mean age: 35.28005350884477\n",
      "Median age: 31.0\n"
     ]
    }
   ],
   "source": [
    "#What is the age distribution of bikers?\n",
    "birth_year = frame['birth year']\n",
    "ages = 2018 - birth_year\n",
    "plt.hist(ages, bins = 40)\n",
    "plt.title('Age distribution with outliers',fontsize = 12)\n",
    "plt.show()\n",
    "print (\"Maximum age is clearly an outlier: {}\".format(max(ages)))\n",
    "print (\"Max age birth year: {}\".format(min(birth_year)))\n",
    "print (\"Minimum age: {}\".format(min(ages)))\n",
    "print (\"Mean age: {}\".format(ages.mean()))\n",
    "print (\"Median age: {}\".format(ages.median()))\n",
    "plt.show()"
   ]
  },
  {
   "cell_type": "code",
   "execution_count": 256,
   "metadata": {},
   "outputs": [
    {
     "name": "stdout",
     "output_type": "stream",
     "text": [
      "70.27698677226934\n",
      "Oldest birth year: 1947.7230132277307\n",
      "Mean age of riders: 35.28005350884477\n"
     ]
    },
    {
     "data": {
      "image/png": "[encoded data removed]",
      "text/plain": [
       "<Figure size 432x288 with 1 Axes>"
      ]
     },
     "metadata": {
      "needs_background": "light"
     },
     "output_type": "display_data"
    }
   ],
   "source": [
    "#Clearly there is an outlier. I don't believe someone from the 19th century is riding around Boston on a rental bike in 2018.\n",
    "#Verified oldest person in America's birth year is 1905(113yrs old). Thank you Wikipedia.\n",
    "#Let's get rid of outliers outside of 3 std to get rid of what is clearly a tech issue with \n",
    "#bike software/human registration error.\n",
    "\n",
    "x = np.mean(ages) + 3*np.std(ages)\n",
    "Oldest_birth_year = 2018-x\n",
    "print (x)\n",
    "print ('Oldest birth year:', Oldest_birth_year)\n",
    "print ('Mean age of riders:', np.mean(ages))\n",
    "\n",
    "df = frame[frame['birth year']>=1947]\n",
    "len(df)\n",
    "\n",
    "plt.hist(df['birth year'], bins = 40)\n",
    "plt.show()"
   ]
  },
  {
   "cell_type": "code",
   "execution_count": 269,
   "metadata": {},
   "outputs": [
    {
     "data": {
      "image/png": "[encoded data removed]",
      "text/plain": [
       "<Figure size 1440x720 with 2 Axes>"
      ]
     },
     "metadata": {
      "needs_background": "light"
     },
     "output_type": "display_data"
    }
   ],
   "source": [
    "#What are the most popular stations and can we imply anything about socioeconomics based on station use?\n",
    "plt.figure(figsize=(20, 10))\n",
    "\n",
    "plt.subplot(1,2,1)\n",
    "df['start station name'].value_counts().head(10).plot(kind='bar')\n",
    "\n",
    "plt.subplot(1,2,2)\n",
    "df['end station name'].value_counts().head(10).plot(kind='bar')\n",
    "plt.show()"
   ]
  },
  {
   "cell_type": "code",
   "execution_count": 282,
   "metadata": {},
   "outputs": [
    {
     "name": "stdout",
     "output_type": "stream",
     "text": [
      "0   -71.097009\n",
      "Name: start station longitude, dtype: float64\n",
      "0    42.372217\n",
      "Name: end station latitude, dtype: float64\n",
      "0   -71.121881\n",
      "Name: end station longitude, dtype: float64\n"
     ]
    },
    {
     "ename": "TypeError",
     "evalue": "cannot convert the series to <class 'float'>",
     "output_type": "error",
     "traceback": [
      "\u001b[1;31m---------------------------------------------------------------------------\u001b[0m",
      "\u001b[1;31mTypeError\u001b[0m                                 Traceback (most recent call last)",
      "\u001b[1;32m<ipython-input-282-71aa67ef754c>\u001b[0m in \u001b[0;36m<module>\u001b[1;34m\u001b[0m\n\u001b[0;32m     21\u001b[0m \u001b[0mprint\u001b[0m\u001b[1;33m(\u001b[0m\u001b[0mdf\u001b[0m\u001b[1;33m[\u001b[0m\u001b[1;34m'end station longitude'\u001b[0m\u001b[1;33m]\u001b[0m\u001b[1;33m.\u001b[0m\u001b[0mhead\u001b[0m\u001b[1;33m(\u001b[0m\u001b[1;36m1\u001b[0m\u001b[1;33m)\u001b[0m\u001b[1;33m)\u001b[0m\u001b[1;33m\u001b[0m\u001b[1;33m\u001b[0m\u001b[0m\n\u001b[0;32m     22\u001b[0m \u001b[0mdistance\u001b[0m\u001b[1;33m(\u001b[0m\u001b[1;36m42.348706\u001b[0m\u001b[1;33m,\u001b[0m\u001b[1;33m-\u001b[0m\u001b[1;36m71.097009\u001b[0m\u001b[1;33m,\u001b[0m\u001b[1;36m42.372217\u001b[0m\u001b[1;33m,\u001b[0m\u001b[1;33m-\u001b[0m\u001b[1;36m71.121881\u001b[0m\u001b[1;33m)\u001b[0m\u001b[1;33m\u001b[0m\u001b[1;33m\u001b[0m\u001b[0m\n\u001b[1;32m---> 23\u001b[1;33m \u001b[0mdf\u001b[0m\u001b[1;33m[\u001b[0m\u001b[1;34m'distance'\u001b[0m\u001b[1;33m]\u001b[0m \u001b[1;33m=\u001b[0m \u001b[0mdistance\u001b[0m\u001b[1;33m(\u001b[0m\u001b[0mdf\u001b[0m\u001b[1;33m[\u001b[0m\u001b[1;34m'start station latitude'\u001b[0m\u001b[1;33m]\u001b[0m\u001b[1;33m,\u001b[0m \u001b[0mdf\u001b[0m\u001b[1;33m[\u001b[0m\u001b[1;34m'start station longitude'\u001b[0m\u001b[1;33m]\u001b[0m\u001b[1;33m,\u001b[0m \u001b[0mdf\u001b[0m\u001b[1;33m[\u001b[0m\u001b[1;34m'end station latitude'\u001b[0m\u001b[1;33m]\u001b[0m\u001b[1;33m,\u001b[0m\u001b[0mdf\u001b[0m\u001b[1;33m[\u001b[0m\u001b[1;34m'end station longitude'\u001b[0m\u001b[1;33m]\u001b[0m\u001b[1;33m)\u001b[0m\u001b[1;33m\u001b[0m\u001b[1;33m\u001b[0m\u001b[0m\n\u001b[0m\u001b[0;32m     24\u001b[0m \u001b[1;31m# df['distance'].head(3)\u001b[0m\u001b[1;33m\u001b[0m\u001b[1;33m\u001b[0m\u001b[1;33m\u001b[0m\u001b[0m\n\u001b[0;32m     25\u001b[0m \u001b[1;33m\u001b[0m\u001b[0m\n",
      "\u001b[1;32m<ipython-input-282-71aa67ef754c>\u001b[0m in \u001b[0;36mdistance\u001b[1;34m(lat1, lon1, lat2, lon2)\u001b[0m\n\u001b[0;32m      8\u001b[0m     \u001b[0mradius\u001b[0m \u001b[1;33m=\u001b[0m \u001b[1;36m6371\u001b[0m \u001b[1;31m# km\u001b[0m\u001b[1;33m\u001b[0m\u001b[1;33m\u001b[0m\u001b[0m\n\u001b[0;32m      9\u001b[0m \u001b[1;33m\u001b[0m\u001b[0m\n\u001b[1;32m---> 10\u001b[1;33m     \u001b[0mdlat\u001b[0m \u001b[1;33m=\u001b[0m \u001b[0mmath\u001b[0m\u001b[1;33m.\u001b[0m\u001b[0mradians\u001b[0m\u001b[1;33m(\u001b[0m\u001b[0mlat2\u001b[0m\u001b[1;33m-\u001b[0m\u001b[0mlat1\u001b[0m\u001b[1;33m)\u001b[0m\u001b[1;33m\u001b[0m\u001b[1;33m\u001b[0m\u001b[0m\n\u001b[0m\u001b[0;32m     11\u001b[0m     \u001b[0mdlon\u001b[0m \u001b[1;33m=\u001b[0m \u001b[0mmath\u001b[0m\u001b[1;33m.\u001b[0m\u001b[0mradians\u001b[0m\u001b[1;33m(\u001b[0m\u001b[0mlon2\u001b[0m\u001b[1;33m-\u001b[0m\u001b[0mlon1\u001b[0m\u001b[1;33m)\u001b[0m\u001b[1;33m\u001b[0m\u001b[1;33m\u001b[0m\u001b[0m\n\u001b[0;32m     12\u001b[0m     \u001b[0ma\u001b[0m \u001b[1;33m=\u001b[0m \u001b[0mmath\u001b[0m\u001b[1;33m.\u001b[0m\u001b[0msin\u001b[0m\u001b[1;33m(\u001b[0m\u001b[0mdlat\u001b[0m\u001b[1;33m/\u001b[0m\u001b[1;36m2\u001b[0m\u001b[1;33m)\u001b[0m \u001b[1;33m*\u001b[0m \u001b[0mmath\u001b[0m\u001b[1;33m.\u001b[0m\u001b[0msin\u001b[0m\u001b[1;33m(\u001b[0m\u001b[0mdlat\u001b[0m\u001b[1;33m/\u001b[0m\u001b[1;36m2\u001b[0m\u001b[1;33m)\u001b[0m \u001b[1;33m+\u001b[0m \u001b[0mmath\u001b[0m\u001b[1;33m.\u001b[0m\u001b[0mcos\u001b[0m\u001b[1;33m(\u001b[0m\u001b[0mmath\u001b[0m\u001b[1;33m.\u001b[0m\u001b[0mradians\u001b[0m\u001b[1;33m(\u001b[0m\u001b[0mlat1\u001b[0m\u001b[1;33m)\u001b[0m\u001b[1;33m)\u001b[0m\u001b[0;31m \u001b[0m\u001b[0;31m\\\u001b[0m\u001b[1;33m\u001b[0m\u001b[1;33m\u001b[0m\u001b[0m\n",
      "\u001b[1;32mc:\\users\\harr1\\appdata\\local\\programs\\python\\python37\\lib\\site-packages\\pandas\\core\\series.py\u001b[0m in \u001b[0;36mwrapper\u001b[1;34m(self)\u001b[0m\n\u001b[0;32m    129\u001b[0m         \u001b[1;32mif\u001b[0m \u001b[0mlen\u001b[0m\u001b[1;33m(\u001b[0m\u001b[0mself\u001b[0m\u001b[1;33m)\u001b[0m \u001b[1;33m==\u001b[0m \u001b[1;36m1\u001b[0m\u001b[1;33m:\u001b[0m\u001b[1;33m\u001b[0m\u001b[1;33m\u001b[0m\u001b[0m\n\u001b[0;32m    130\u001b[0m             \u001b[1;32mreturn\u001b[0m \u001b[0mconverter\u001b[0m\u001b[1;33m(\u001b[0m\u001b[0mself\u001b[0m\u001b[1;33m.\u001b[0m\u001b[0miloc\u001b[0m\u001b[1;33m[\u001b[0m\u001b[1;36m0\u001b[0m\u001b[1;33m]\u001b[0m\u001b[1;33m)\u001b[0m\u001b[1;33m\u001b[0m\u001b[1;33m\u001b[0m\u001b[0m\n\u001b[1;32m--> 131\u001b[1;33m         \u001b[1;32mraise\u001b[0m \u001b[0mTypeError\u001b[0m\u001b[1;33m(\u001b[0m\u001b[1;34m\"cannot convert the series to \"\u001b[0m \u001b[1;34m\"{0}\"\u001b[0m\u001b[1;33m.\u001b[0m\u001b[0mformat\u001b[0m\u001b[1;33m(\u001b[0m\u001b[0mstr\u001b[0m\u001b[1;33m(\u001b[0m\u001b[0mconverter\u001b[0m\u001b[1;33m)\u001b[0m\u001b[1;33m)\u001b[0m\u001b[1;33m)\u001b[0m\u001b[1;33m\u001b[0m\u001b[1;33m\u001b[0m\u001b[0m\n\u001b[0m\u001b[0;32m    132\u001b[0m \u001b[1;33m\u001b[0m\u001b[0m\n\u001b[0;32m    133\u001b[0m     \u001b[0mwrapper\u001b[0m\u001b[1;33m.\u001b[0m\u001b[0m__name__\u001b[0m \u001b[1;33m=\u001b[0m \u001b[1;34m\"__{name}__\"\u001b[0m\u001b[1;33m.\u001b[0m\u001b[0mformat\u001b[0m\u001b[1;33m(\u001b[0m\u001b[0mname\u001b[0m\u001b[1;33m=\u001b[0m\u001b[0mconverter\u001b[0m\u001b[1;33m.\u001b[0m\u001b[0m__name__\u001b[0m\u001b[1;33m)\u001b[0m\u001b[1;33m\u001b[0m\u001b[1;33m\u001b[0m\u001b[0m\n",
      "\u001b[1;31mTypeError\u001b[0m: cannot convert the series to <class 'float'>"
     ]
    }
   ],
   "source": [
    "\n",
    "\n",
    "import math\n",
    "from math import sin, cos, sqrt, atan2, radians\n",
    "from decimal import Decimal\n",
    "R = 6373.0\n",
    "\n",
    "def distance(lat1, lon1, lat2, lon2):\n",
    "\n",
    "    radius = 6371 # km\n",
    "\n",
    "    dlat = math.radians(lat2-lat1)\n",
    "    dlon = math.radians(lon2-lon1)\n",
    "    a = math.sin(dlat/2) * math.sin(dlat/2) + math.cos(math.radians(lat1)) \\\n",
    "        * math.cos(math.radians(lat2)) * math.sin(dlon/2) * math.sin(dlon/2)\n",
    "    c = 2 * math.atan2(math.sqrt(a), math.sqrt(1-a))\n",
    "    d = radius * c\n",
    "\n",
    "    return d\n",
    "df['start station latitude'].head\n",
    "print(df['start station longitude'].head(1))\n",
    "print(df['end station latitude'].head(1))\n",
    "print(df['end station longitude'].head(1))\n",
    "# distance(42.348706,-71.097009,42.372217,-71.121881)\n",
    "# df['distance'] = distance(df['start station latitude'], df['start station longitude'], df['end station latitude'],df['end station longitude'])\n",
    "# # df['distance'].head(3)\n",
    "\n"
   ]
  },
  {
   "cell_type": "code",
   "execution_count": 180,
   "metadata": {},
   "outputs": [],
   "source": [
    "\n",
    "month_dict = {\n",
    "    'Jan' : 1, \n",
    "    'Feb' : 2,\n",
    "    'March' : 3,\n",
    "    'April' : 4,\n",
    "    'May' : 5,\n",
    "    'June' : 6,\n",
    "    'July' : 7,\n",
    "    'Aug' : 8,\n",
    "    'Sept' : 9,\n",
    "    'Oct' : 10,\n",
    "    'Nov' : 11,\n",
    "    'Dec' : 12\n",
    "         }\n",
    "\n"
   ]
  },
  {
   "cell_type": "code",
   "execution_count": 257,
   "metadata": {},
   "outputs": [
    {
     "name": "stdout",
     "output_type": "stream",
     "text": [
      "Total distance ridden: 2081744.7090288112\n"
     ]
    }
   ],
   "source": [
    "#Total distance ridden all year\n",
    "print('Total distance ridden:',df['distance'].sum())"
   ]
  },
  {
   "cell_type": "code",
   "execution_count": 258,
   "metadata": {},
   "outputs": [
    {
     "name": "stdout",
     "output_type": "stream",
     "text": [
      "Ave gals of gas saved/month: 7080.017731590076\n",
      "Total gals of gas saved: 84960.21277908093\n"
     ]
    },
    {
     "data": {
      "text/html": [
       "<div>\n",
       "<style scoped>\n",
       "    .dataframe tbody tr th:only-of-type {\n",
       "        vertical-align: middle;\n",
       "    }\n",
       "\n",
       "    .dataframe tbody tr th {\n",
       "        vertical-align: top;\n",
       "    }\n",
       "\n",
       "    .dataframe thead th {\n",
       "        text-align: right;\n",
       "    }\n",
       "</style>\n",
       "<table border=\"1\" class=\"dataframe\">\n",
       "  <thead>\n",
       "    <tr style=\"text-align: right;\">\n",
       "      <th></th>\n",
       "      <th>dist_month</th>\n",
       "      <th>sav_month</th>\n",
       "      <th>Month</th>\n",
       "      <th>Mo_no</th>\n",
       "    </tr>\n",
       "    <tr>\n",
       "      <th>Month</th>\n",
       "      <th></th>\n",
       "      <th></th>\n",
       "      <th></th>\n",
       "      <th></th>\n",
       "    </tr>\n",
       "  </thead>\n",
       "  <tbody>\n",
       "    <tr>\n",
       "      <th>April</th>\n",
       "      <td>13448.215000</td>\n",
       "      <td>545.942753</td>\n",
       "      <td>April</td>\n",
       "      <td>4</td>\n",
       "    </tr>\n",
       "    <tr>\n",
       "      <th>Aug</th>\n",
       "      <td>348456.760000</td>\n",
       "      <td>14139.757935</td>\n",
       "      <td>Aug</td>\n",
       "      <td>8</td>\n",
       "    </tr>\n",
       "    <tr>\n",
       "      <th>Dec</th>\n",
       "      <td>92533.551300</td>\n",
       "      <td>3758.771915</td>\n",
       "      <td>Dec</td>\n",
       "      <td>12</td>\n",
       "    </tr>\n",
       "    <tr>\n",
       "      <th>Feb</th>\n",
       "      <td>72683.443600</td>\n",
       "      <td>3124.145134</td>\n",
       "      <td>Feb</td>\n",
       "      <td>2</td>\n",
       "    </tr>\n",
       "    <tr>\n",
       "      <th>Jan</th>\n",
       "      <td>43510.879200</td>\n",
       "      <td>1842.245547</td>\n",
       "      <td>Jan</td>\n",
       "      <td>1</td>\n",
       "    </tr>\n",
       "    <tr>\n",
       "      <th>July</th>\n",
       "      <td>296955.896329</td>\n",
       "      <td>12048.649285</td>\n",
       "      <td>July</td>\n",
       "      <td>7</td>\n",
       "    </tr>\n",
       "    <tr>\n",
       "      <th>June</th>\n",
       "      <td>255344.140600</td>\n",
       "      <td>10363.903385</td>\n",
       "      <td>June</td>\n",
       "      <td>6</td>\n",
       "    </tr>\n",
       "    <tr>\n",
       "      <th>March</th>\n",
       "      <td>65661.819000</td>\n",
       "      <td>2889.648008</td>\n",
       "      <td>March</td>\n",
       "      <td>3</td>\n",
       "    </tr>\n",
       "    <tr>\n",
       "      <th>May</th>\n",
       "      <td>219491.186700</td>\n",
       "      <td>8916.299178</td>\n",
       "      <td>May</td>\n",
       "      <td>5</td>\n",
       "    </tr>\n",
       "    <tr>\n",
       "      <th>Nov</th>\n",
       "      <td>143993.625200</td>\n",
       "      <td>5844.388955</td>\n",
       "      <td>Nov</td>\n",
       "      <td>11</td>\n",
       "    </tr>\n",
       "    <tr>\n",
       "      <th>Oct</th>\n",
       "      <td>244717.530600</td>\n",
       "      <td>9929.434551</td>\n",
       "      <td>Oct</td>\n",
       "      <td>10</td>\n",
       "    </tr>\n",
       "    <tr>\n",
       "      <th>Sept</th>\n",
       "      <td>284947.661500</td>\n",
       "      <td>11557.026134</td>\n",
       "      <td>Sept</td>\n",
       "      <td>9</td>\n",
       "    </tr>\n",
       "  </tbody>\n",
       "</table>\n",
       "</div>"
      ],
      "text/plain": [
       "          dist_month     sav_month  Month  Mo_no\n",
       "Month                                           \n",
       "April   13448.215000    545.942753  April      4\n",
       "Aug    348456.760000  14139.757935    Aug      8\n",
       "Dec     92533.551300   3758.771915    Dec     12\n",
       "Feb     72683.443600   3124.145134    Feb      2\n",
       "Jan     43510.879200   1842.245547    Jan      1\n",
       "July   296955.896329  12048.649285   July      7\n",
       "June   255344.140600  10363.903385   June      6\n",
       "March   65661.819000   2889.648008  March      3\n",
       "May    219491.186700   8916.299178    May      5\n",
       "Nov    143993.625200   5844.388955    Nov     11\n",
       "Oct    244717.530600   9929.434551    Oct     10\n",
       "Sept   284947.661500  11557.026134   Sept      9"
      ]
     },
     "execution_count": 258,
     "metadata": {},
     "output_type": "execute_result"
    }
   ],
   "source": [
    "#Savings per month:\n",
    "sav = pd.DataFrame()\n",
    "sav['dist_month'] = df.groupby(['Month'])['distance'].sum(ascending = False, axis = 0)\n",
    "sav['sav_month'] = sav_month['dist_month']/24.7\n",
    "sav_mean = np.mean(sav['sav_month'])\n",
    "sav_total = sum(sav['sav_month'])\n",
    "print (\"Ave gals of gas saved/month:\", sav_mean )\n",
    "print (\"Total gals of gas saved:\", sav_total)\n",
    "\n",
    "sav['Month'] = sav.index \n",
    "Mo_no = []\n",
    "for each in sav['Month']:\n",
    "    Mo_no.append(month_dict[each])\n",
    "Mo_no\n",
    "sav['Mo_no'] = Mo_no\n",
    "\n",
    "sav"
   ]
  },
  {
   "cell_type": "code",
   "execution_count": 260,
   "metadata": {},
   "outputs": [],
   "source": [
    "sav = sav.sort_values(by=['Mo_no'])"
   ]
  },
  {
   "cell_type": "code",
   "execution_count": 262,
   "metadata": {},
   "outputs": [
    {
     "data": {
      "image/png": "[encoded data removed]",
      "text/plain": [
       "<Figure size 432x288 with 1 Axes>"
      ]
     },
     "metadata": {
      "needs_background": "light"
     },
     "output_type": "display_data"
    }
   ],
   "source": [
    "plt.plot(sav['sav_month'], linewidth = 3)\n",
    "plt.ylabel('Gallons of Gas Saved')\n",
    "plt.axhline(np.mean(sav_mean), linestyle='dashed')\n",
    "plt.xticks(sav['Month'], rotation = 'vertical')\n",
    "plt.title('Biking Community Saves 85,000 Gallons of Gas', fontsize = 16)\n",
    "plt.show()\n"
   ]
  },
  {
   "cell_type": "code",
   "execution_count": 263,
   "metadata": {},
   "outputs": [
    {
     "name": "stdout",
     "output_type": "stream",
     "text": [
      "Total number of trips: 1753375\n"
     ]
    }
   ],
   "source": [
    "#Number of trips over the course of the year\n",
    "total_trips = df['starttime'].count()\n",
    "print('Total number of trips:', total_trips)"
   ]
  },
  {
   "cell_type": "code",
   "execution_count": 264,
   "metadata": {},
   "outputs": [],
   "source": [
    "sav['Num_trips'] = df.groupby(['Month'])['starttime'].count()\n"
   ]
  },
  {
   "cell_type": "code",
   "execution_count": 265,
   "metadata": {},
   "outputs": [
    {
     "data": {
      "image/png": "[encoded data removed]",
      "text/plain": [
       "<Figure size 432x288 with 1 Axes>"
      ]
     },
     "metadata": {
      "needs_background": "light"
     },
     "output_type": "display_data"
    }
   ],
   "source": [
    "#create bar chart of trips per month, setting index to horizontal\n",
    "plt.bar(sav['Month'], sav['Num_trips'], align='center')\n",
    "plt.xticks(sav['Month'], rotation = 'vertical')\n",
    "plt.title('Blue Bikes Winter-Spring Growth Opportunity', fontsize = 20)\n",
    "plt.ylabel('Number of trips')\n",
    "plt.show()"
   ]
  },
  {
   "cell_type": "code",
   "execution_count": 266,
   "metadata": {},
   "outputs": [],
   "source": [
    "#Ave trip duration in hours per month\n",
    "sav['Ride Duration'] = df.groupby(['Month'])['tripduration'].mean()/60\n",
    "\n",
    "#There are obvious outliers skewing the data. Bikes that were possibly left off the rack continued\n",
    "#to gather data despite not in use. Let's look at the max ride times."
   ]
  },
  {
   "cell_type": "code",
   "execution_count": 267,
   "metadata": {},
   "outputs": [
    {
     "data": {
      "text/html": [
       "<div>\n",
       "<style scoped>\n",
       "    .dataframe tbody tr th:only-of-type {\n",
       "        vertical-align: middle;\n",
       "    }\n",
       "\n",
       "    .dataframe tbody tr th {\n",
       "        vertical-align: top;\n",
       "    }\n",
       "\n",
       "    .dataframe thead th {\n",
       "        text-align: right;\n",
       "    }\n",
       "</style>\n",
       "<table border=\"1\" class=\"dataframe\">\n",
       "  <thead>\n",
       "    <tr style=\"text-align: right;\">\n",
       "      <th></th>\n",
       "      <th>dist_month</th>\n",
       "      <th>sav_month</th>\n",
       "      <th>Month</th>\n",
       "      <th>Mo_no</th>\n",
       "      <th>Num_trips</th>\n",
       "      <th>Ride Duration</th>\n",
       "      <th>Max</th>\n",
       "    </tr>\n",
       "    <tr>\n",
       "      <th>Month</th>\n",
       "      <th></th>\n",
       "      <th></th>\n",
       "      <th></th>\n",
       "      <th></th>\n",
       "      <th></th>\n",
       "      <th></th>\n",
       "      <th></th>\n",
       "    </tr>\n",
       "  </thead>\n",
       "  <tbody>\n",
       "    <tr>\n",
       "      <th>Jan</th>\n",
       "      <td>43510.879200</td>\n",
       "      <td>1842.245547</td>\n",
       "      <td>Jan</td>\n",
       "      <td>1</td>\n",
       "      <td>39241</td>\n",
       "      <td>12.357886</td>\n",
       "      <td>292.359028</td>\n",
       "    </tr>\n",
       "    <tr>\n",
       "      <th>Feb</th>\n",
       "      <td>72683.443600</td>\n",
       "      <td>3124.145134</td>\n",
       "      <td>Feb</td>\n",
       "      <td>2</td>\n",
       "      <td>59098</td>\n",
       "      <td>13.324653</td>\n",
       "      <td>1609.462500</td>\n",
       "    </tr>\n",
       "    <tr>\n",
       "      <th>March</th>\n",
       "      <td>65661.819000</td>\n",
       "      <td>2889.648008</td>\n",
       "      <td>March</td>\n",
       "      <td>3</td>\n",
       "      <td>58186</td>\n",
       "      <td>12.324559</td>\n",
       "      <td>296.563194</td>\n",
       "    </tr>\n",
       "    <tr>\n",
       "      <th>April</th>\n",
       "      <td>13448.215000</td>\n",
       "      <td>545.942753</td>\n",
       "      <td>April</td>\n",
       "      <td>4</td>\n",
       "      <td>97833</td>\n",
       "      <td>17.863036</td>\n",
       "      <td>1734.798611</td>\n",
       "    </tr>\n",
       "    <tr>\n",
       "      <th>May</th>\n",
       "      <td>219491.186700</td>\n",
       "      <td>8916.299178</td>\n",
       "      <td>May</td>\n",
       "      <td>5</td>\n",
       "      <td>178267</td>\n",
       "      <td>26.068107</td>\n",
       "      <td>6478.165278</td>\n",
       "    </tr>\n",
       "    <tr>\n",
       "      <th>June</th>\n",
       "      <td>255344.140600</td>\n",
       "      <td>10363.903385</td>\n",
       "      <td>June</td>\n",
       "      <td>6</td>\n",
       "      <td>204829</td>\n",
       "      <td>28.732592</td>\n",
       "      <td>5704.476389</td>\n",
       "    </tr>\n",
       "    <tr>\n",
       "      <th>July</th>\n",
       "      <td>296955.896329</td>\n",
       "      <td>12048.649285</td>\n",
       "      <td>July</td>\n",
       "      <td>7</td>\n",
       "      <td>242361</td>\n",
       "      <td>32.492482</td>\n",
       "      <td>4118.623611</td>\n",
       "    </tr>\n",
       "    <tr>\n",
       "      <th>Aug</th>\n",
       "      <td>348456.760000</td>\n",
       "      <td>14139.757935</td>\n",
       "      <td>Aug</td>\n",
       "      <td>8</td>\n",
       "      <td>235548</td>\n",
       "      <td>31.862234</td>\n",
       "      <td>3182.181944</td>\n",
       "    </tr>\n",
       "    <tr>\n",
       "      <th>Sept</th>\n",
       "      <td>284947.661500</td>\n",
       "      <td>11557.026134</td>\n",
       "      <td>Sept</td>\n",
       "      <td>9</td>\n",
       "      <td>235697</td>\n",
       "      <td>24.518226</td>\n",
       "      <td>1420.326389</td>\n",
       "    </tr>\n",
       "    <tr>\n",
       "      <th>Oct</th>\n",
       "      <td>244717.530600</td>\n",
       "      <td>9929.434551</td>\n",
       "      <td>Oct</td>\n",
       "      <td>10</td>\n",
       "      <td>199644</td>\n",
       "      <td>33.618426</td>\n",
       "      <td>2030.091667</td>\n",
       "    </tr>\n",
       "    <tr>\n",
       "      <th>Nov</th>\n",
       "      <td>143993.625200</td>\n",
       "      <td>5844.388955</td>\n",
       "      <td>Nov</td>\n",
       "      <td>11</td>\n",
       "      <td>121064</td>\n",
       "      <td>20.583614</td>\n",
       "      <td>1490.379167</td>\n",
       "    </tr>\n",
       "    <tr>\n",
       "      <th>Dec</th>\n",
       "      <td>92533.551300</td>\n",
       "      <td>3758.771915</td>\n",
       "      <td>Dec</td>\n",
       "      <td>12</td>\n",
       "      <td>81607</td>\n",
       "      <td>22.365626</td>\n",
       "      <td>1968.163194</td>\n",
       "    </tr>\n",
       "  </tbody>\n",
       "</table>\n",
       "</div>"
      ],
      "text/plain": [
       "          dist_month     sav_month  Month  Mo_no  Num_trips  Ride Duration  \\\n",
       "Month                                                                        \n",
       "Jan     43510.879200   1842.245547    Jan      1      39241      12.357886   \n",
       "Feb     72683.443600   3124.145134    Feb      2      59098      13.324653   \n",
       "March   65661.819000   2889.648008  March      3      58186      12.324559   \n",
       "April   13448.215000    545.942753  April      4      97833      17.863036   \n",
       "May    219491.186700   8916.299178    May      5     178267      26.068107   \n",
       "June   255344.140600  10363.903385   June      6     204829      28.732592   \n",
       "July   296955.896329  12048.649285   July      7     242361      32.492482   \n",
       "Aug    348456.760000  14139.757935    Aug      8     235548      31.862234   \n",
       "Sept   284947.661500  11557.026134   Sept      9     235697      24.518226   \n",
       "Oct    244717.530600   9929.434551    Oct     10     199644      33.618426   \n",
       "Nov    143993.625200   5844.388955    Nov     11     121064      20.583614   \n",
       "Dec     92533.551300   3758.771915    Dec     12      81607      22.365626   \n",
       "\n",
       "               Max  \n",
       "Month               \n",
       "Jan     292.359028  \n",
       "Feb    1609.462500  \n",
       "March   296.563194  \n",
       "April  1734.798611  \n",
       "May    6478.165278  \n",
       "June   5704.476389  \n",
       "July   4118.623611  \n",
       "Aug    3182.181944  \n",
       "Sept   1420.326389  \n",
       "Oct    2030.091667  \n",
       "Nov    1490.379167  \n",
       "Dec    1968.163194  "
      ]
     },
     "execution_count": 267,
     "metadata": {},
     "output_type": "execute_result"
    }
   ],
   "source": [
    "#Number of hours for these max rentals doesn't make sense and is skewing the data\n",
    "sav['Max'] = (df.groupby(['Month'])['tripduration'].max()/60)/24\n",
    "sav"
   ]
  },
  {
   "cell_type": "code",
   "execution_count": 227,
   "metadata": {},
   "outputs": [
    {
     "data": {
      "image/png": "[encoded data removed]",
      "text/plain": [
       "<Figure size 432x288 with 1 Axes>"
      ]
     },
     "metadata": {
      "needs_background": "light"
     },
     "output_type": "display_data"
    }
   ],
   "source": [
    "plt.bar(sav.index, sav['Max'], align='center')\n",
    "plt.xticks(sav.index,  rotation = 'vertical')\n",
    "plt.title('Maximum Trip Lengths')\n",
    "plt.ylabel('Time of trips (hours)')\n",
    "plt.show()  "
   ]
  },
  {
   "cell_type": "code",
   "execution_count": null,
   "metadata": {},
   "outputs": [],
   "source": [
    "#Due to what seems to be a very skewed dataset, I cannot use the trip durations until that data is cleaned."
   ]
  }
 ],
 "metadata": {
  "celltoolbar": "Raw Cell Format",
  "kernelspec": {
   "display_name": "Python 3",
   "language": "python",
   "name": "python3"
  },
  "language_info": {
   "codemirror_mode": {
    "name": "ipython",
    "version": 3
   },
   "file_extension": ".py",
   "mimetype": "text/x-python",
   "name": "python",
   "nbconvert_exporter": "python",
   "pygments_lexer": "ipython3",
   "version": "3.7.4"
  }
 },
 "nbformat": 4,
 "nbformat_minor": 2
}
